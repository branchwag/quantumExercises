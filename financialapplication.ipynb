{
 "cells": [
  {
   "cell_type": "code",
   "execution_count": 1,
   "metadata": {},
   "outputs": [
    {
     "name": "stdout",
     "output_type": "stream",
     "text": [
      "1.4.0\n"
     ]
    }
   ],
   "source": [
    "#check qiskit version\n",
    "import qiskit\n",
    "print(qiskit.__version__)"
   ]
  },
  {
   "cell_type": "code",
   "execution_count": 2,
   "metadata": {},
   "outputs": [
    {
     "name": "stdout",
     "output_type": "stream",
     "text": [
      "qiskit_algorithms version: 0.3.1\n",
      "Available modules: ['AdaptVQE', 'AdaptVQEResult', 'AlgorithmError', 'AlgorithmJob', 'AlgorithmResult', 'AmplificationProblem', 'AmplitudeAmplifier', 'AmplitudeEstimation', 'AmplitudeEstimationResult', 'AmplitudeEstimator', 'AmplitudeEstimatorResult', 'Eigensolver', 'EigensolverResult', 'EstimationProblem', 'FasterAmplitudeEstimation', 'FasterAmplitudeEstimationResult', 'Grover', 'GroverResult', 'HamiltonianPhaseEstimation', 'HamiltonianPhaseEstimationResult', 'ImaginaryTimeEvolver', 'IterativeAmplitudeEstimation', 'IterativeAmplitudeEstimationResult', 'IterativePhaseEstimation', 'MaximumLikelihoodAmplitudeEstimation', 'MaximumLikelihoodAmplitudeEstimationResult', 'MinimumEigensolver', 'MinimumEigensolverResult', 'NumPyEigensolver', 'NumPyEigensolverResult', 'NumPyMinimumEigensolver', 'NumPyMinimumEigensolverResult', 'PVQD', 'PVQDResult', 'PhaseEstimation', 'PhaseEstimationResult', 'PhaseEstimationScale', 'QAOA', 'RealTimeEvolver', 'SamplingMinimumEigensolver', 'SamplingMinimumEigensolverResult', 'SamplingVQE', 'SamplingVQEResult', 'SciPyImaginaryEvolver', 'SciPyRealEvolver', 'TimeEvolutionProblem', 'TimeEvolutionResult', 'TrotterQRTE', 'VQD', 'VQDResult', 'VQE', 'VQEResult', 'VarQITE', 'VarQRTE', 'VarQTE', 'VarQTEResult', 'VariationalAlgorithm', 'VariationalResult', '__all__', '__builtins__', '__cached__', '__doc__', '__file__', '__loader__', '__name__', '__package__', '__path__', '__spec__', '__version__', 'algorithm_job', 'algorithm_result', 'amplitude_amplifiers', 'amplitude_estimators', 'eigensolvers', 'estimate_observables', 'exceptions', 'gradients', 'list_or_dict', 'minimum_eigensolvers', 'observables_evaluator', 'optimizers', 'phase_estimators', 'state_fidelities', 'time_evolvers', 'utils', 'variational_algorithm', 'version']\n",
      "EstimationProblem imported successfully\n",
      "IterativeAmplitudeEstimation imported successfully\n"
     ]
    }
   ],
   "source": [
    "import qiskit_algorithms\n",
    "print(\"qiskit_algorithms version:\", qiskit_algorithms.__version__)\n",
    "print(\"Available modules:\", dir(qiskit_algorithms))\n",
    "\n",
    "# Try to import the specific modules\n",
    "try:\n",
    "    from qiskit_algorithms import EstimationProblem\n",
    "    print(\"EstimationProblem imported successfully\")\n",
    "except ImportError as e:\n",
    "    print(\"Error importing EstimationProblem:\", e)\n",
    "\n",
    "try:\n",
    "    from qiskit_algorithms.amplitude_estimators import IterativeAmplitudeEstimation\n",
    "    print(\"IterativeAmplitudeEstimation imported successfully\")\n",
    "except ImportError as e:\n",
    "    print(\"Error importing IterativeAmplitudeEstimation:\", e)"
   ]
  },
  {
   "cell_type": "code",
   "execution_count": 6,
   "metadata": {},
   "outputs": [
    {
     "name": "stdout",
     "output_type": "stream",
     "text": [
      "Quantum Estimated Expected Return: 0.4909\n",
      "Classical Portfolio Variance (Risk): 0.0001\n"
     ]
    },
    {
     "name": "stderr",
     "output_type": "stream",
     "text": [
      "C:\\Users\\branc\\AppData\\Local\\Temp\\ipykernel_29972\\274555681.py:34: DeprecationWarning: The class ``qiskit.primitives.sampler.Sampler`` is deprecated as of qiskit 1.2. It will be removed no earlier than 3 months after the release date. All implementations of the `BaseSamplerV1` interface have been deprecated in favor of their V2 counterparts. The V2 alternative for the `Sampler` class is `StatevectorSampler`.\n",
      "  sampler=Sampler()  # Using the new Sampler primitive instead of QuantumInstance\n"
     ]
    }
   ],
   "source": [
    "import numpy as np\n",
    "#from qiskit.circuit.library import NormalDistribution\n",
    "from qiskit_finance.circuit.library import NormalDistribution\n",
    "from qiskit_algorithms import EstimationProblem\n",
    "from qiskit_algorithms.amplitude_estimators import IterativeAmplitudeEstimation\n",
    "from qiskit.primitives import Sampler\n",
    "\n",
    "# Define portfolio parameters\n",
    "mu = [0.05, 0.07]  # Expected returns for two assets\n",
    "sigma = [0.1, 0.15]  # Standard deviations (risk)\n",
    "\n",
    "# Covariance matrix (assuming no correlation for simplicity)\n",
    "cov_matrix = np.diag(np.square(sigma))\n",
    "\n",
    "# Quantum Register: Encode normal distribution of asset returns\n",
    "num_qubits = 3  # Number of qubits for precision\n",
    "bounds = [0, 0.2]  # Return range (0% to 20%)\n",
    "distribution = NormalDistribution(num_qubits, mu=np.mean(mu), sigma=np.mean(sigma), bounds=bounds)\n",
    "\n",
    "# Define the objective function (Expected Return Calculation)\n",
    "def objective_function(x):\n",
    "    return np.dot(x, mu)  # Weighted sum of returns\n",
    "\n",
    "# Construct quantum estimation problem\n",
    "problem = EstimationProblem(\n",
    "    state_preparation=distribution,  # Quantum state encoding returns\n",
    "    objective_qubits=[num_qubits - 1]  # Measure highest qubit\n",
    ")\n",
    "\n",
    "# Use Iterative Amplitude Estimation for efficiency\n",
    "qae = IterativeAmplitudeEstimation(\n",
    "    epsilon_target=0.01,\n",
    "    alpha=0.05,\n",
    "    sampler=Sampler()  # Using the new Sampler primitive instead of QuantumInstance\n",
    ")\n",
    "result = qae.estimate(problem)\n",
    "\n",
    "# Extract estimated expected return\n",
    "expected_return = result.estimation\n",
    "\n",
    "print(f\"Quantum Estimated Expected Return: {expected_return:.4f}\")\n",
    "\n",
    "# Compute Variance (Risk) Classically\n",
    "variance = np.dot(np.square(mu), np.diag(cov_matrix))\n",
    "print(f\"Classical Portfolio Variance (Risk): {variance:.4f}\")"
   ]
  }
 ],
 "metadata": {
  "kernelspec": {
   "display_name": "cwq",
   "language": "python",
   "name": "python3"
  },
  "language_info": {
   "codemirror_mode": {
    "name": "ipython",
    "version": 3
   },
   "file_extension": ".py",
   "mimetype": "text/x-python",
   "name": "python",
   "nbconvert_exporter": "python",
   "pygments_lexer": "ipython3",
   "version": "3.13.2"
  }
 },
 "nbformat": 4,
 "nbformat_minor": 2
}
